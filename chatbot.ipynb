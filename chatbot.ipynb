{
 "cells": [
  {
   "cell_type": "code",
   "execution_count": 1,
   "id": "be8da33f",
   "metadata": {},
   "outputs": [],
   "source": [
    "import pandas as pd\n"
   ]
  },
  {
   "cell_type": "code",
   "execution_count": 3,
   "id": "fc3cdbda",
   "metadata": {},
   "outputs": [],
   "source": [
    "df = pd.read_csv('Book(Sheet1).csv')"
   ]
  },
  {
   "cell_type": "code",
   "execution_count": 4,
   "id": "4ad36bd5",
   "metadata": {},
   "outputs": [
    {
     "name": "stdout",
     "output_type": "stream",
     "text": [
      "     Company  Year Total Revenue Net Income Total Assets Total Liabilities  \\\n",
      "0  Microsoft  2023      2,11,915     72,361     4,11,976          2,05,753   \n",
      "1  Microsoft  2022      1,98,270     72,738     3,64,840          1,98,298   \n",
      "2  Microsoft  2021      1,68,088     61,271     3,04,180          1,91,791   \n",
      "3      Tesla  2023        96,773     12,600     1,06,618            43,009   \n",
      "4      Tesla  2022        81,462     11,000       82,338            36,440   \n",
      "\n",
      "   Cash Flow from Operating Activities  \n",
      "0                                   14  \n",
      "1                                    6  \n",
      "2                                   19  \n",
      "3                                   10  \n",
      "4                                    7  \n"
     ]
    }
   ],
   "source": [
    "print(df.head())"
   ]
  },
  {
   "cell_type": "code",
   "execution_count": 5,
   "id": "49428e4f",
   "metadata": {},
   "outputs": [
    {
     "name": "stderr",
     "output_type": "stream",
     "text": [
      "/Users/apple/opt/anaconda3/lib/python3.9/site-packages/scipy/__init__.py:146: UserWarning: A NumPy version >=1.16.5 and <1.23.0 is required for this version of SciPy (detected version 1.26.4\n",
      "  warnings.warn(f\"A NumPy version >={np_minversion} and <{np_maxversion}\"\n"
     ]
    }
   ],
   "source": [
    "import nltk\n",
    "from nltk.corpus import stopwords\n",
    "from nltk.tokenize import word_tokenize"
   ]
  },
  {
   "cell_type": "code",
   "execution_count": 6,
   "id": "8de4ac00",
   "metadata": {},
   "outputs": [
    {
     "name": "stderr",
     "output_type": "stream",
     "text": [
      "[nltk_data] Downloading package punkt to /Users/apple/nltk_data...\n",
      "[nltk_data]   Unzipping tokenizers/punkt.zip.\n",
      "[nltk_data] Downloading package stopwords to /Users/apple/nltk_data...\n",
      "[nltk_data]   Unzipping corpora/stopwords.zip.\n"
     ]
    },
    {
     "data": {
      "text/plain": [
       "True"
      ]
     },
     "execution_count": 6,
     "metadata": {},
     "output_type": "execute_result"
    }
   ],
   "source": [
    "# Download NLTK data if not already downloaded\n",
    "nltk.download('punkt')\n",
    "nltk.download('stopwords')"
   ]
  },
  {
   "cell_type": "code",
   "execution_count": 7,
   "id": "7821e3b6",
   "metadata": {},
   "outputs": [],
   "source": [
    "# Define stop words for filtering\n",
    "stop_words = set(stopwords.words('english'))"
   ]
  },
  {
   "cell_type": "code",
   "execution_count": 8,
   "id": "0503f2ca",
   "metadata": {},
   "outputs": [],
   "source": [
    "def preprocess_query(query):\n",
    "    # Tokenize and filter stopwords\n",
    "    tokens = word_tokenize(query.lower())\n",
    "    filtered_tokens = [token for token in tokens if token.isalnum() and token not in stop_words]\n",
    "    return filtered_tokens\n",
    "\n",
    "def match_query_to_intent(tokens):\n",
    "    # Define predefined intents (queries)\n",
    "    intents = {\n",
    "        'total revenue': 'Total Revenue',\n",
    "        'net income': 'Net Income',\n",
    "        'total assets': 'Total Assets',\n",
    "        'total liabilities': 'Total Liabilities',\n",
    "        'cash flow': 'Cash Flow from Operating Activities'\n",
    "    }\n",
    "    \n",
    "    # Match tokens to intents\n",
    "    for token in tokens:\n",
    "        for intent_key, intent_value in intents.items():\n",
    "            if token in intent_key:\n",
    "                return intent_value\n",
    "    \n",
    "    return None\n",
    "\n",
    "def financial_chatbot(query):\n",
    "    try:\n",
    "        # Preprocess the user query\n",
    "        tokens = preprocess_query(query)\n",
    "        \n",
    "        # Match tokens to predefined intents\n",
    "        intent = match_query_to_intent(tokens)\n",
    "        \n",
    "        if not intent:\n",
    "            return \"Sorry, I can only provide information on predefined financial queries.\"\n",
    "        \n",
    "        # Retrieve latest available data for the selected intent\n",
    "        latest_data = df.iloc[0]  # Assuming we always take the latest year's data\n",
    "        \n",
    "        # Construct response based on intent\n",
    "        response = f\"Latest financial data:\\n\"\n",
    "        response += f\"- {intent}: {latest_data[intent]}\"\n",
    "        \n",
    "        return response\n",
    "    \n",
    "    except Exception as e:\n",
    "        return f\"Error: {str(e)}\""
   ]
  },
  {
   "cell_type": "code",
   "execution_count": 9,
   "id": "838c873e",
   "metadata": {},
   "outputs": [
    {
     "name": "stdout",
     "output_type": "stream",
     "text": [
      "Latest financial data:\n",
      "- Total Revenue: 2,11,915\n",
      "Latest financial data:\n",
      "- Net Income: 72,361\n",
      "Latest financial data:\n",
      "- Total Revenue: 2,11,915\n",
      "Latest financial data:\n",
      "- Cash Flow from Operating Activities: 14\n",
      "Sorry, I can only provide information on predefined financial queries.\n"
     ]
    }
   ],
   "source": [
    "# Test the chatbot with natural language queries\n",
    "print(financial_chatbot(\"What is the total revenue?\"))\n",
    "print(financial_chatbot(\"Show me the net income.\"))\n",
    "print(financial_chatbot(\"What are the total assets?\"))\n",
    "print(financial_chatbot(\"Cash flow details.\"))\n",
    "print(financial_chatbot(\"What is the profit?\"))  "
   ]
  },
  {
   "cell_type": "code",
   "execution_count": null,
   "id": "dbc0e43c",
   "metadata": {},
   "outputs": [],
   "source": []
  }
 ],
 "metadata": {
  "kernelspec": {
   "display_name": "Python 3 (ipykernel)",
   "language": "python",
   "name": "python3"
  },
  "language_info": {
   "codemirror_mode": {
    "name": "ipython",
    "version": 3
   },
   "file_extension": ".py",
   "mimetype": "text/x-python",
   "name": "python",
   "nbconvert_exporter": "python",
   "pygments_lexer": "ipython3",
   "version": "3.9.12"
  }
 },
 "nbformat": 4,
 "nbformat_minor": 5
}

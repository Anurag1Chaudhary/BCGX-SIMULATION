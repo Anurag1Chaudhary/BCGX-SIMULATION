{
 "cells": [
  {
   "cell_type": "code",
   "execution_count": 1,
   "id": "155deb4f",
   "metadata": {},
   "outputs": [],
   "source": [
    "import pandas as pd\n"
   ]
  },
  {
   "cell_type": "code",
   "execution_count": 5,
   "id": "776fabb2",
   "metadata": {},
   "outputs": [],
   "source": [
    "# Load data\n",
    "df = pd.read_csv('Book(Sheet1).csv')"
   ]
  },
  {
   "cell_type": "code",
   "execution_count": 7,
   "id": "ddd87765",
   "metadata": {},
   "outputs": [
    {
     "data": {
      "text/html": [
       "<div>\n",
       "<style scoped>\n",
       "    .dataframe tbody tr th:only-of-type {\n",
       "        vertical-align: middle;\n",
       "    }\n",
       "\n",
       "    .dataframe tbody tr th {\n",
       "        vertical-align: top;\n",
       "    }\n",
       "\n",
       "    .dataframe thead th {\n",
       "        text-align: right;\n",
       "    }\n",
       "</style>\n",
       "<table border=\"1\" class=\"dataframe\">\n",
       "  <thead>\n",
       "    <tr style=\"text-align: right;\">\n",
       "      <th></th>\n",
       "      <th>Company</th>\n",
       "      <th>Year</th>\n",
       "      <th>Total Revenue</th>\n",
       "      <th>Net Income</th>\n",
       "      <th>Total Assets</th>\n",
       "      <th>Total Liabilities</th>\n",
       "      <th>Cash Flow from Operating Activities</th>\n",
       "    </tr>\n",
       "  </thead>\n",
       "  <tbody>\n",
       "    <tr>\n",
       "      <th>0</th>\n",
       "      <td>Microsoft</td>\n",
       "      <td>2023</td>\n",
       "      <td>2,11,915</td>\n",
       "      <td>72,361</td>\n",
       "      <td>4,11,976</td>\n",
       "      <td>2,05,753</td>\n",
       "      <td>14</td>\n",
       "    </tr>\n",
       "    <tr>\n",
       "      <th>1</th>\n",
       "      <td>Microsoft</td>\n",
       "      <td>2022</td>\n",
       "      <td>1,98,270</td>\n",
       "      <td>72,738</td>\n",
       "      <td>3,64,840</td>\n",
       "      <td>1,98,298</td>\n",
       "      <td>6</td>\n",
       "    </tr>\n",
       "    <tr>\n",
       "      <th>2</th>\n",
       "      <td>Microsoft</td>\n",
       "      <td>2021</td>\n",
       "      <td>1,68,088</td>\n",
       "      <td>61,271</td>\n",
       "      <td>3,04,180</td>\n",
       "      <td>1,91,791</td>\n",
       "      <td>19</td>\n",
       "    </tr>\n",
       "    <tr>\n",
       "      <th>3</th>\n",
       "      <td>Tesla</td>\n",
       "      <td>2023</td>\n",
       "      <td>96,773</td>\n",
       "      <td>12,600</td>\n",
       "      <td>1,06,618</td>\n",
       "      <td>43,009</td>\n",
       "      <td>10</td>\n",
       "    </tr>\n",
       "    <tr>\n",
       "      <th>4</th>\n",
       "      <td>Tesla</td>\n",
       "      <td>2022</td>\n",
       "      <td>81,462</td>\n",
       "      <td>11,000</td>\n",
       "      <td>82,338</td>\n",
       "      <td>36,440</td>\n",
       "      <td>7</td>\n",
       "    </tr>\n",
       "    <tr>\n",
       "      <th>5</th>\n",
       "      <td>Tesla</td>\n",
       "      <td>2021</td>\n",
       "      <td>53,823</td>\n",
       "      <td>5,519</td>\n",
       "      <td>62,131</td>\n",
       "      <td>27,877</td>\n",
       "      <td>5</td>\n",
       "    </tr>\n",
       "    <tr>\n",
       "      <th>6</th>\n",
       "      <td>Apple</td>\n",
       "      <td>2023</td>\n",
       "      <td>3,85,000</td>\n",
       "      <td>1,00,000</td>\n",
       "      <td>3,00,000</td>\n",
       "      <td>2,00,000</td>\n",
       "      <td>16</td>\n",
       "    </tr>\n",
       "    <tr>\n",
       "      <th>7</th>\n",
       "      <td>Apple</td>\n",
       "      <td>2022</td>\n",
       "      <td>3,94,328</td>\n",
       "      <td>99,803</td>\n",
       "      <td>3,51,000</td>\n",
       "      <td>2,83,000</td>\n",
       "      <td>12</td>\n",
       "    </tr>\n",
       "    <tr>\n",
       "      <th>8</th>\n",
       "      <td>Apple</td>\n",
       "      <td>2021</td>\n",
       "      <td>3,65,817</td>\n",
       "      <td>94,680</td>\n",
       "      <td>3,16,000</td>\n",
       "      <td>2,79,000</td>\n",
       "      <td>9</td>\n",
       "    </tr>\n",
       "  </tbody>\n",
       "</table>\n",
       "</div>"
      ],
      "text/plain": [
       "     Company  Year Total Revenue Net Income Total Assets Total Liabilities  \\\n",
       "0  Microsoft  2023      2,11,915     72,361     4,11,976          2,05,753   \n",
       "1  Microsoft  2022      1,98,270     72,738     3,64,840          1,98,298   \n",
       "2  Microsoft  2021      1,68,088     61,271     3,04,180          1,91,791   \n",
       "3      Tesla  2023        96,773     12,600     1,06,618            43,009   \n",
       "4      Tesla  2022        81,462     11,000       82,338            36,440   \n",
       "5      Tesla  2021        53,823      5,519       62,131            27,877   \n",
       "6      Apple  2023      3,85,000   1,00,000     3,00,000          2,00,000   \n",
       "7      Apple  2022      3,94,328     99,803     3,51,000          2,83,000   \n",
       "8      Apple  2021      3,65,817     94,680     3,16,000          2,79,000   \n",
       "\n",
       "   Cash Flow from Operating Activities  \n",
       "0                                   14  \n",
       "1                                    6  \n",
       "2                                   19  \n",
       "3                                   10  \n",
       "4                                    7  \n",
       "5                                    5  \n",
       "6                                   16  \n",
       "7                                   12  \n",
       "8                                    9  "
      ]
     },
     "execution_count": 7,
     "metadata": {},
     "output_type": "execute_result"
    }
   ],
   "source": [
    "df.head(10)"
   ]
  },
  {
   "cell_type": "code",
   "execution_count": 10,
   "id": "45db9e80",
   "metadata": {},
   "outputs": [],
   "source": [
    "# Ensure all relevant columns are treated as strings\n",
    "df['Total Revenue'] = df['Total Revenue'].astype(str).str.replace(',', '')\n",
    "df['Net Income'] = df['Net Income'].astype(str).str.replace(',', '')\n",
    "df['Total Assets'] = df['Total Assets'].astype(str).str.replace(',', '')\n",
    "df['Total Liabilities'] = df['Total Liabilities'].astype(str).str.replace(',', '')\n",
    "df['Cash Flow from Operating Activities'] = df['Cash Flow from Operating Activities'].astype(str).str.replace(',', '')\n"
   ]
  },
  {
   "cell_type": "code",
   "execution_count": 11,
   "id": "ba3589ab",
   "metadata": {},
   "outputs": [],
   "source": [
    "# Convert columns to numeric, handling non-numeric entries\n",
    "df['Total Revenue'] = pd.to_numeric(df['Total Revenue'], errors='coerce')\n",
    "df['Net Income'] = pd.to_numeric(df['Net Income'], errors='coerce')\n",
    "df['Total Assets'] = pd.to_numeric(df['Total Assets'], errors='coerce')\n",
    "df['Total Liabilities'] = pd.to_numeric(df['Total Liabilities'], errors='coerce')\n",
    "df['Cash Flow from Operating Activities'] = pd.to_numeric(df['Cash Flow from Operating Activities'], errors='coerce')\n"
   ]
  },
  {
   "cell_type": "code",
   "execution_count": 12,
   "id": "f0841cac",
   "metadata": {},
   "outputs": [],
   "source": [
    "# Calculate year-over-year changes\n",
    "df['Revenue Growth (%)'] = df.groupby(['Company'])['Total Revenue'].pct_change() * 100\n",
    "df['Net Income Growth (%)'] = df.groupby(['Company'])['Net Income'].pct_change() * 100\n"
   ]
  },
  {
   "cell_type": "code",
   "execution_count": 13,
   "id": "88cb43cb",
   "metadata": {},
   "outputs": [
    {
     "name": "stdout",
     "output_type": "stream",
     "text": [
      "     Company  Year  Total Revenue  Net Income  Total Assets  \\\n",
      "0  Microsoft  2023         211915       72361        411976   \n",
      "1  Microsoft  2022         198270       72738        364840   \n",
      "2  Microsoft  2021         168088       61271        304180   \n",
      "3      Tesla  2023          96773       12600        106618   \n",
      "4      Tesla  2022          81462       11000         82338   \n",
      "5      Tesla  2021          53823        5519         62131   \n",
      "6      Apple  2023         385000      100000        300000   \n",
      "7      Apple  2022         394328       99803        351000   \n",
      "8      Apple  2021         365817       94680        316000   \n",
      "\n",
      "   Total Liabilities  Cash Flow from Operating Activities  Revenue Growth (%)  \\\n",
      "0             205753                                   14                 NaN   \n",
      "1             198298                                    6           -6.438902   \n",
      "2             191791                                   19          -15.222676   \n",
      "3              43009                                   10                 NaN   \n",
      "4              36440                                    7          -15.821562   \n",
      "5              27877                                    5          -33.928703   \n",
      "6             200000                                   16                 NaN   \n",
      "7             283000                                   12            2.422857   \n",
      "8             279000                                    9           -7.230275   \n",
      "\n",
      "   Net Income Growth (%)  \n",
      "0                    NaN  \n",
      "1               0.520999  \n",
      "2             -15.764800  \n",
      "3                    NaN  \n",
      "4             -12.698413  \n",
      "5             -49.827273  \n",
      "6                    NaN  \n",
      "7              -0.197000  \n",
      "8              -5.133112  \n"
     ]
    }
   ],
   "source": [
    "print(df)"
   ]
  },
  {
   "cell_type": "code",
   "execution_count": 14,
   "id": "3047562c",
   "metadata": {},
   "outputs": [],
   "source": [
    "# Summarize findings\n",
    "avg_revenue_growth = df.groupby('Company')['Revenue Growth (%)'].mean()\n",
    "avg_net_income_growth = df.groupby('Company')['Net Income Growth (%)'].mean()"
   ]
  },
  {
   "cell_type": "code",
   "execution_count": 15,
   "id": "422a300c",
   "metadata": {},
   "outputs": [
    {
     "name": "stdout",
     "output_type": "stream",
     "text": [
      "Average Revenue Growth by Company:\n",
      "Company\n",
      "Apple        -2.403709\n",
      "Microsoft   -10.830789\n",
      "Tesla       -24.875132\n",
      "Name: Revenue Growth (%), dtype: float64\n",
      "\n",
      "Average Net Income Growth by Company:\n",
      "Company\n",
      "Apple        -2.665056\n",
      "Microsoft    -7.621900\n",
      "Tesla       -31.262843\n",
      "Name: Net Income Growth (%), dtype: float64\n"
     ]
    }
   ],
   "source": [
    "# Display results\n",
    "print(\"Average Revenue Growth by Company:\")\n",
    "print(avg_revenue_growth)\n",
    "print(\"\\nAverage Net Income Growth by Company:\")\n",
    "print(avg_net_income_growth)"
   ]
  },
  {
   "cell_type": "code",
   "execution_count": null,
   "id": "2c41361b",
   "metadata": {},
   "outputs": [],
   "source": []
  }
 ],
 "metadata": {
  "kernelspec": {
   "display_name": "Python 3 (ipykernel)",
   "language": "python",
   "name": "python3"
  },
  "language_info": {
   "codemirror_mode": {
    "name": "ipython",
    "version": 3
   },
   "file_extension": ".py",
   "mimetype": "text/x-python",
   "name": "python",
   "nbconvert_exporter": "python",
   "pygments_lexer": "ipython3",
   "version": "3.9.12"
  }
 },
 "nbformat": 4,
 "nbformat_minor": 5
}
